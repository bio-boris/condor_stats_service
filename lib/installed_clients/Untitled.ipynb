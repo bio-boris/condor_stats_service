{
 "cells": [
  {
   "cell_type": "code",
   "execution_count": 1,
   "metadata": {},
   "outputs": [
    {
     "ename": "IndentationError",
     "evalue": "unexpected indent (<ipython-input-1-83179828e631>, line 4)",
     "output_type": "error",
     "traceback": [
      "\u001b[0;36m  File \u001b[0;32m\"<ipython-input-1-83179828e631>\"\u001b[0;36m, line \u001b[0;32m4\u001b[0m\n\u001b[0;31m    collectors = collector.query(htcondor.AdTypes.Collector, \"true\", [\"Name\"])\u001b[0m\n\u001b[0m    ^\u001b[0m\n\u001b[0;31mIndentationError\u001b[0m\u001b[0;31m:\u001b[0m unexpected indent\n"
     ]
    }
   ],
   "source": [
    "import htcondor\n",
    "hostname = \"ci.kbase.us:9618\"\n",
    "collector = htcondor.Collector(hostname)\n",
    "collectors = collector.query(htcondor.AdTypes.Collector, \"true\", [\"Name\"])\n",
    "numCollectors = len(collectors)\n",
    "negotiators = collector.query(htcondor.AdTypes.Negotiator, \"true\", [\"Name\"])\n",
    "numNegotiators = len(negotiators)\n"
   ]
  }
 ],
 "metadata": {
  "kernelspec": {
   "display_name": "Python 3",
   "language": "python",
   "name": "python3"
  },
  "language_info": {
   "codemirror_mode": {
    "name": "ipython",
    "version": 3
   },
   "file_extension": ".py",
   "mimetype": "text/x-python",
   "name": "python",
   "nbconvert_exporter": "python",
   "pygments_lexer": "ipython3",
   "version": "3.7.0"
  }
 },
 "nbformat": 4,
 "nbformat_minor": 2
}
